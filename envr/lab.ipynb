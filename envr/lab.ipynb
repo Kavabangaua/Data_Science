{
 "cells": [
  {
   "cell_type": "code",
   "execution_count": 4,
   "metadata": {},
   "outputs": [
    {
     "name": "stdout",
     "output_type": "stream",
     "text": [
      "Hello, роо!\n"
     ]
    }
   ],
   "source": [
    "name = input(\"Введіть ваше ім'я: \")\n",
    "print(f\"Hello, {name}!\")"
   ]
  },
  {
   "cell_type": "code",
   "execution_count": 6,
   "metadata": {},
   "outputs": [
    {
     "name": "stdout",
     "output_type": "stream",
     "text": [
      "Масив випадкових чисел: [0.73817479 0.67836097 0.071374   0.14721883 0.86106155 0.88130745\n",
      " 0.79771814 0.89646434 0.43454546 0.05547811]\n",
      "Середнє значення масиву: 0.5561703636434235\n"
     ]
    }
   ],
   "source": [
    "import numpy as np\n",
    "random_numbers = np.random.rand(10)\n",
    "mean_value = np.mean(random_numbers)\n",
    "print(\"Масив випадкових чисел:\", random_numbers)\n",
    "print(\"Середнє значення масиву:\", mean_value)"
   ]
  },
  {
   "cell_type": "markdown",
   "metadata": {},
   "source": [
    "Перше не дуже приємне знайомство з Юпітером. Офіційна заява преидента космонавтики, я ненавиджу космос!"
   ]
  }
 ],
 "metadata": {
  "language_info": {
   "name": "python"
  }
 },
 "nbformat": 4,
 "nbformat_minor": 2
}
