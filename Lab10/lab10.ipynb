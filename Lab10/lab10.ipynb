{
 "cells": [
  {
   "cell_type": "markdown",
   "metadata": {},
   "source": [
    "1. Вибір моделі\n",
    "\n",
    "Використовую модель MobileNetV2 із TensorFlow Hub для класифікації зображень"
   ]
  },
  {
   "cell_type": "code",
   "execution_count": 31,
   "metadata": {},
   "outputs": [
    {
     "ename": "ValueError",
     "evalue": "Trying to load a model of incompatible/unknown type. '/var/folders/f4/gn0xg2wj5ln_fbb_v_0_2h940000gn/T/tfhub_modules/145bb06ec3b59b08fb564ab752bd5aa222bfb50a' contains neither 'saved_model.pb' nor 'saved_model.pbtxt'.",
     "output_type": "error",
     "traceback": [
      "\u001b[0;31m---------------------------------------------------------------------------\u001b[0m",
      "\u001b[0;31mValueError\u001b[0m                                Traceback (most recent call last)",
      "\u001b[1;32m/Users/alexeipavlenko/Documents/Data_Science-1/Lab10/lab10.ipynb Cell 2\u001b[0m line \u001b[0;36m1\n\u001b[1;32m     <a href='vscode-notebook-cell:/Users/alexeipavlenko/Documents/Data_Science-1/Lab10/lab10.ipynb#W1sZmlsZQ%3D%3D?line=10'>11</a>\u001b[0m \u001b[39m#Завантаження натренованої моделі з TensorFlow Hub\u001b[39;00m\n\u001b[1;32m     <a href='vscode-notebook-cell:/Users/alexeipavlenko/Documents/Data_Science-1/Lab10/lab10.ipynb#W1sZmlsZQ%3D%3D?line=11'>12</a>\u001b[0m base_model_url \u001b[39m=\u001b[39m \u001b[39m\"\u001b[39m\u001b[39mhttps://tfhub.dev/google/tf2-preview/mobilenet_v2/feature_vector/4\u001b[39m\u001b[39m\"\u001b[39m\n\u001b[0;32m---> <a href='vscode-notebook-cell:/Users/alexeipavlenko/Documents/Data_Science-1/Lab10/lab10.ipynb#W1sZmlsZQ%3D%3D?line=12'>13</a>\u001b[0m base_model \u001b[39m=\u001b[39m hub\u001b[39m.\u001b[39;49mKerasLayer(base_model_url, input_shape\u001b[39m=\u001b[39;49m(\u001b[39m224\u001b[39;49m, \u001b[39m224\u001b[39;49m, \u001b[39m3\u001b[39;49m), trainable\u001b[39m=\u001b[39;49m\u001b[39mFalse\u001b[39;49;00m)\n\u001b[1;32m     <a href='vscode-notebook-cell:/Users/alexeipavlenko/Documents/Data_Science-1/Lab10/lab10.ipynb#W1sZmlsZQ%3D%3D?line=14'>15</a>\u001b[0m \u001b[39m#Фіксуємо початкові шари моделі\u001b[39;00m\n\u001b[1;32m     <a href='vscode-notebook-cell:/Users/alexeipavlenko/Documents/Data_Science-1/Lab10/lab10.ipynb#W1sZmlsZQ%3D%3D?line=15'>16</a>\u001b[0m base_model\u001b[39m.\u001b[39mtrainable \u001b[39m=\u001b[39m \u001b[39mFalse\u001b[39;00m\n",
      "File \u001b[0;32m/Library/Frameworks/Python.framework/Versions/3.12/lib/python3.12/site-packages/tensorflow_hub/keras_layer.py:165\u001b[0m, in \u001b[0;36mKerasLayer.__init__\u001b[0;34m(self, handle, trainable, arguments, _sentinel, tags, signature, signature_outputs_as_dict, output_key, output_shape, load_options, **kwargs)\u001b[0m\n\u001b[1;32m    161\u001b[0m   \u001b[39mself\u001b[39m\u001b[39m.\u001b[39m_output_shape \u001b[39m=\u001b[39m data_structures\u001b[39m.\u001b[39mNoDependency(\n\u001b[1;32m    162\u001b[0m       _convert_nest_to_shapes(output_shape))\n\u001b[1;32m    164\u001b[0m \u001b[39mself\u001b[39m\u001b[39m.\u001b[39m_load_options \u001b[39m=\u001b[39m load_options\n\u001b[0;32m--> 165\u001b[0m \u001b[39mself\u001b[39m\u001b[39m.\u001b[39m_func \u001b[39m=\u001b[39m load_module(handle, tags, \u001b[39mself\u001b[39;49m\u001b[39m.\u001b[39;49m_load_options)\n\u001b[1;32m    166\u001b[0m \u001b[39mself\u001b[39m\u001b[39m.\u001b[39m_is_hub_module_v1 \u001b[39m=\u001b[39m \u001b[39mgetattr\u001b[39m(\u001b[39mself\u001b[39m\u001b[39m.\u001b[39m_func, \u001b[39m\"\u001b[39m\u001b[39m_is_hub_module_v1\u001b[39m\u001b[39m\"\u001b[39m, \u001b[39mFalse\u001b[39;00m)\n\u001b[1;32m    168\u001b[0m \u001b[39m# Update with the defaults when using legacy TF1 Hub format.\u001b[39;00m\n",
      "File \u001b[0;32m/Library/Frameworks/Python.framework/Versions/3.12/lib/python3.12/site-packages/tensorflow_hub/keras_layer.py:467\u001b[0m, in \u001b[0;36mload_module\u001b[0;34m(handle, tags, load_options)\u001b[0m\n\u001b[1;32m    465\u001b[0m     \u001b[39mexcept\u001b[39;00m \u001b[39mImportError\u001b[39;00m:  \u001b[39m# Expected before TF2.4.\u001b[39;00m\n\u001b[1;32m    466\u001b[0m       set_load_options \u001b[39m=\u001b[39m load_options\n\u001b[0;32m--> 467\u001b[0m \u001b[39mreturn\u001b[39;00m module_v2\u001b[39m.\u001b[39;49mload(handle, tags\u001b[39m=\u001b[39;49mtags, options\u001b[39m=\u001b[39;49mset_load_options)\n",
      "File \u001b[0;32m/Library/Frameworks/Python.framework/Versions/3.12/lib/python3.12/site-packages/tensorflow_hub/module_v2.py:113\u001b[0m, in \u001b[0;36mload\u001b[0;34m(handle, tags, options)\u001b[0m\n\u001b[1;32m    108\u001b[0m saved_model_pbtxt_path \u001b[39m=\u001b[39m os\u001b[39m.\u001b[39mpath\u001b[39m.\u001b[39mjoin(\n\u001b[1;32m    109\u001b[0m     tf\u001b[39m.\u001b[39mcompat\u001b[39m.\u001b[39mas_bytes(module_path),\n\u001b[1;32m    110\u001b[0m     tf\u001b[39m.\u001b[39mcompat\u001b[39m.\u001b[39mas_bytes(tf\u001b[39m.\u001b[39msaved_model\u001b[39m.\u001b[39mSAVED_MODEL_FILENAME_PBTXT))\n\u001b[1;32m    111\u001b[0m \u001b[39mif\u001b[39;00m (\u001b[39mnot\u001b[39;00m tf\u001b[39m.\u001b[39mio\u001b[39m.\u001b[39mgfile\u001b[39m.\u001b[39mexists(saved_model_path) \u001b[39mand\u001b[39;00m\n\u001b[1;32m    112\u001b[0m     \u001b[39mnot\u001b[39;00m tf\u001b[39m.\u001b[39mio\u001b[39m.\u001b[39mgfile\u001b[39m.\u001b[39mexists(saved_model_pbtxt_path)):\n\u001b[0;32m--> 113\u001b[0m   \u001b[39mraise\u001b[39;00m \u001b[39mValueError\u001b[39;00m(\u001b[39m\"\u001b[39m\u001b[39mTrying to load a model of incompatible/unknown type. \u001b[39m\u001b[39m\"\u001b[39m\n\u001b[1;32m    114\u001b[0m                    \u001b[39m\"\u001b[39m\u001b[39m'\u001b[39m\u001b[39m%s\u001b[39;00m\u001b[39m'\u001b[39m\u001b[39m contains neither \u001b[39m\u001b[39m'\u001b[39m\u001b[39m%s\u001b[39;00m\u001b[39m'\u001b[39m\u001b[39m nor \u001b[39m\u001b[39m'\u001b[39m\u001b[39m%s\u001b[39;00m\u001b[39m'\u001b[39m\u001b[39m.\u001b[39m\u001b[39m\"\u001b[39m \u001b[39m%\u001b[39m\n\u001b[1;32m    115\u001b[0m                    (module_path, tf\u001b[39m.\u001b[39msaved_model\u001b[39m.\u001b[39mSAVED_MODEL_FILENAME_PB,\n\u001b[1;32m    116\u001b[0m                     tf\u001b[39m.\u001b[39msaved_model\u001b[39m.\u001b[39mSAVED_MODEL_FILENAME_PBTXT))\n\u001b[1;32m    118\u001b[0m \u001b[39mif\u001b[39;00m options:\n\u001b[1;32m    119\u001b[0m   \u001b[39mif\u001b[39;00m \u001b[39mnot\u001b[39;00m \u001b[39mhasattr\u001b[39m(\u001b[39mgetattr\u001b[39m(tf, \u001b[39m\"\u001b[39m\u001b[39msaved_model\u001b[39m\u001b[39m\"\u001b[39m, \u001b[39mNone\u001b[39;00m), \u001b[39m\"\u001b[39m\u001b[39mLoadOptions\u001b[39m\u001b[39m\"\u001b[39m):\n",
      "\u001b[0;31mValueError\u001b[0m: Trying to load a model of incompatible/unknown type. '/var/folders/f4/gn0xg2wj5ln_fbb_v_0_2h940000gn/T/tfhub_modules/145bb06ec3b59b08fb564ab752bd5aa222bfb50a' contains neither 'saved_model.pb' nor 'saved_model.pbtxt'."
     ]
    }
   ],
   "source": [
    "import ssl\n",
    "ssl._create_default_https_context = ssl._create_unverified_context\n",
    "import tensorflow as tf\n",
    "import tensorflow_hub as hub\n",
    "from tensorflow.keras import layers, models\n",
    "import matplotlib.pyplot as plt\n",
    "import numpy as np\n",
    "from sklearn.metrics import confusion_matrix, classification_report\n",
    "import seaborn as sns\n",
    "\n",
    "#Завантаження натренованої моделі з TensorFlow Hub\n",
    "base_model_url = \"https://tfhub.dev/google/tf2-preview/mobilenet_v2/feature_vector/4\"\n",
    "base_model = hub.KerasLayer(base_model_url, input_shape=(224, 224, 3), trainable=False)\n",
    "\n",
    "#Фіксуємо початкові шари моделі\n",
    "base_model.trainable = False"
   ]
  },
  {
   "cell_type": "markdown",
   "metadata": {},
   "source": [
    "2. Збір та підготовка даних\n",
    "\n",
    "Використовую датасет CIFAR-10, який містить 10 класів зображень"
   ]
  },
  {
   "cell_type": "code",
   "execution_count": 26,
   "metadata": {},
   "outputs": [
    {
     "name": "stdout",
     "output_type": "stream",
     "text": [
      "x_train shape: (10000, 224, 224, 3), y_train shape: (10000,)\n"
     ]
    }
   ],
   "source": [
    "# Завантаження CIFAR-10\n",
    "from tensorflow.keras.datasets import cifar10\n",
    "\n",
    "# Завантаження даних\n",
    "(x_train, y_train), (x_test, y_test) = cifar10.load_data()\n",
    "\n",
    "# Фільтрування даних для двох класів: коти (3) і собаки (5)\n",
    "classes = [3, 5]\n",
    "train_filter = np.isin(y_train, classes).reshape(-1)\n",
    "test_filter = np.isin(y_test, classes).reshape(-1)\n",
    "\n",
    "x_train, y_train = x_train[train_filter], y_train[train_filter]\n",
    "x_test, y_test = x_test[test_filter], y_test[test_filter]\n",
    "\n",
    "# Перекодування міток: 3 -> 0 (коти), 5 -> 1 (собаки)\n",
    "y_train = (y_train == 5).astype(int).reshape(-1)\n",
    "y_test = (y_test == 5).astype(int).reshape(-1)\n",
    "\n",
    "# Масштабування даних\n",
    "x_train = x_train / 255.0\n",
    "x_test = x_test / 255.0\n",
    "\n",
    "# Зміна розміру зображень під вимоги моделі\n",
    "x_train = tf.image.resize(x_train, (224, 224))\n",
    "x_test = tf.image.resize(x_test, (224, 224))\n",
    "\n",
    "print(f\"x_train shape: {x_train.shape}, y_train shape: {y_train.shape}\")"
   ]
  },
  {
   "cell_type": "markdown",
   "metadata": {},
   "source": [
    "3. Адаптація моделі\n",
    "\n",
    "Додано новий класифікаційний шар"
   ]
  },
  {
   "cell_type": "code",
   "execution_count": 27,
   "metadata": {},
   "outputs": [
    {
     "ename": "ValueError",
     "evalue": "Exception encountered when calling layer 'keras_layer_10' (type KerasLayer).\n\nA KerasTensor is symbolic: it's a placeholder for a shape an a dtype. It doesn't have any actual numerical value. You cannot convert it to a NumPy array.\n\nCall arguments received by layer 'keras_layer_10' (type KerasLayer):\n  • inputs=<KerasTensor shape=(None, 224, 224, 3), dtype=float32, sparse=False, name=keras_tensor_6>\n  • training=False",
     "output_type": "error",
     "traceback": [
      "\u001b[0;31m---------------------------------------------------------------------------\u001b[0m",
      "\u001b[0;31mValueError\u001b[0m                                Traceback (most recent call last)",
      "\u001b[1;32m/Users/alexeipavlenko/Documents/Data_Science-1/Lab10/lab10.ipynb Cell 6\u001b[0m line \u001b[0;36m1\n\u001b[1;32m      <a href='vscode-notebook-cell:/Users/alexeipavlenko/Documents/Data_Science-1/Lab10/lab10.ipynb#W5sZmlsZQ%3D%3D?line=8'>9</a>\u001b[0m \u001b[39m# Побудова моделі за допомогою функціональної API\u001b[39;00m\n\u001b[1;32m     <a href='vscode-notebook-cell:/Users/alexeipavlenko/Documents/Data_Science-1/Lab10/lab10.ipynb#W5sZmlsZQ%3D%3D?line=9'>10</a>\u001b[0m inputs \u001b[39m=\u001b[39m layers\u001b[39m.\u001b[39mInput(shape\u001b[39m=\u001b[39m(\u001b[39m224\u001b[39m, \u001b[39m224\u001b[39m, \u001b[39m3\u001b[39m))  \u001b[39m# Вхідні дані\u001b[39;00m\n\u001b[0;32m---> <a href='vscode-notebook-cell:/Users/alexeipavlenko/Documents/Data_Science-1/Lab10/lab10.ipynb#W5sZmlsZQ%3D%3D?line=10'>11</a>\u001b[0m x \u001b[39m=\u001b[39m base_model(inputs, training\u001b[39m=\u001b[39;49m\u001b[39mFalse\u001b[39;49;00m)  \u001b[39m# Передача `training=False` для замороженої моделі\u001b[39;00m\n\u001b[1;32m     <a href='vscode-notebook-cell:/Users/alexeipavlenko/Documents/Data_Science-1/Lab10/lab10.ipynb#W5sZmlsZQ%3D%3D?line=11'>12</a>\u001b[0m x \u001b[39m=\u001b[39m layers\u001b[39m.\u001b[39mGlobalAveragePooling2D()(x)  \u001b[39m# Додавання шару для згладжування\u001b[39;00m\n\u001b[1;32m     <a href='vscode-notebook-cell:/Users/alexeipavlenko/Documents/Data_Science-1/Lab10/lab10.ipynb#W5sZmlsZQ%3D%3D?line=12'>13</a>\u001b[0m x \u001b[39m=\u001b[39m layers\u001b[39m.\u001b[39mDense(\u001b[39m128\u001b[39m, activation\u001b[39m=\u001b[39m\u001b[39m'\u001b[39m\u001b[39mrelu\u001b[39m\u001b[39m'\u001b[39m)(x)  \u001b[39m# Додатковий повнозв’язаний шар\u001b[39;00m\n",
      "File \u001b[0;32m/Library/Frameworks/Python.framework/Versions/3.12/lib/python3.12/site-packages/tf_keras/src/utils/traceback_utils.py:70\u001b[0m, in \u001b[0;36mfilter_traceback.<locals>.error_handler\u001b[0;34m(*args, **kwargs)\u001b[0m\n\u001b[1;32m     67\u001b[0m     filtered_tb \u001b[39m=\u001b[39m _process_traceback_frames(e\u001b[39m.\u001b[39m__traceback__)\n\u001b[1;32m     68\u001b[0m     \u001b[39m# To get the full stack trace, call:\u001b[39;00m\n\u001b[1;32m     69\u001b[0m     \u001b[39m# `tf.debugging.disable_traceback_filtering()`\u001b[39;00m\n\u001b[0;32m---> 70\u001b[0m     \u001b[39mraise\u001b[39;00m e\u001b[39m.\u001b[39mwith_traceback(filtered_tb) \u001b[39mfrom\u001b[39;00m \u001b[39mNone\u001b[39;00m\n\u001b[1;32m     71\u001b[0m \u001b[39mfinally\u001b[39;00m:\n\u001b[1;32m     72\u001b[0m     \u001b[39mdel\u001b[39;00m filtered_tb\n",
      "File \u001b[0;32m/Library/Frameworks/Python.framework/Versions/3.12/lib/python3.12/site-packages/tensorflow_hub/keras_layer.py:250\u001b[0m, in \u001b[0;36mKerasLayer.call\u001b[0;34m(self, inputs, training)\u001b[0m\n\u001b[1;32m    247\u001b[0m   \u001b[39melse\u001b[39;00m:\n\u001b[1;32m    248\u001b[0m     \u001b[39m# Behave like BatchNormalization. (Dropout is different, b/181839368.)\u001b[39;00m\n\u001b[1;32m    249\u001b[0m     training \u001b[39m=\u001b[39m \u001b[39mFalse\u001b[39;00m\n\u001b[0;32m--> 250\u001b[0m   result \u001b[39m=\u001b[39m smart_cond\u001b[39m.\u001b[39;49msmart_cond(training,\n\u001b[1;32m    251\u001b[0m                                  \u001b[39mlambda\u001b[39;49;00m: f(training\u001b[39m=\u001b[39;49m\u001b[39mTrue\u001b[39;49;00m),\n\u001b[1;32m    252\u001b[0m                                  \u001b[39mlambda\u001b[39;49;00m: f(training\u001b[39m=\u001b[39;49m\u001b[39mFalse\u001b[39;49;00m))\n\u001b[1;32m    254\u001b[0m \u001b[39m# Unwrap dicts returned by signatures.\u001b[39;00m\n\u001b[1;32m    255\u001b[0m \u001b[39mif\u001b[39;00m \u001b[39mself\u001b[39m\u001b[39m.\u001b[39m_output_key:\n",
      "File \u001b[0;32m/Library/Frameworks/Python.framework/Versions/3.12/lib/python3.12/site-packages/tensorflow_hub/keras_layer.py:252\u001b[0m, in \u001b[0;36mKerasLayer.call.<locals>.<lambda>\u001b[0;34m()\u001b[0m\n\u001b[1;32m    247\u001b[0m   \u001b[39melse\u001b[39;00m:\n\u001b[1;32m    248\u001b[0m     \u001b[39m# Behave like BatchNormalization. (Dropout is different, b/181839368.)\u001b[39;00m\n\u001b[1;32m    249\u001b[0m     training \u001b[39m=\u001b[39m \u001b[39mFalse\u001b[39;00m\n\u001b[1;32m    250\u001b[0m   result \u001b[39m=\u001b[39m smart_cond\u001b[39m.\u001b[39msmart_cond(training,\n\u001b[1;32m    251\u001b[0m                                  \u001b[39mlambda\u001b[39;00m: f(training\u001b[39m=\u001b[39m\u001b[39mTrue\u001b[39;00m),\n\u001b[0;32m--> 252\u001b[0m                                  \u001b[39mlambda\u001b[39;00m: f(training\u001b[39m=\u001b[39;49m\u001b[39mFalse\u001b[39;49;00m))\n\u001b[1;32m    254\u001b[0m \u001b[39m# Unwrap dicts returned by signatures.\u001b[39;00m\n\u001b[1;32m    255\u001b[0m \u001b[39mif\u001b[39;00m \u001b[39mself\u001b[39m\u001b[39m.\u001b[39m_output_key:\n",
      "File \u001b[0;32m/Library/Frameworks/Python.framework/Versions/3.12/lib/python3.12/site-packages/tensorflow/core/function/polymorphism/function_type.py:583\u001b[0m, in \u001b[0;36mcanonicalize_to_monomorphic\u001b[0;34m(args, kwargs, default_values, capture_types, polymorphic_type)\u001b[0m\n\u001b[1;32m    577\u001b[0m       parameters\u001b[39m.\u001b[39mappend(\n\u001b[1;32m    578\u001b[0m           _make_validated_mono_param(kwarg_name, arg[kwarg_name],\n\u001b[1;32m    579\u001b[0m                                      Parameter\u001b[39m.\u001b[39mKEYWORD_ONLY, type_context,\n\u001b[1;32m    580\u001b[0m                                      poly_parameter\u001b[39m.\u001b[39mtype_constraint))\n\u001b[1;32m    581\u001b[0m   \u001b[39melse\u001b[39;00m:\n\u001b[1;32m    582\u001b[0m     parameters\u001b[39m.\u001b[39mappend(\n\u001b[0;32m--> 583\u001b[0m         _make_validated_mono_param(name, arg, poly_parameter\u001b[39m.\u001b[39;49mkind,\n\u001b[1;32m    584\u001b[0m                                    type_context,\n\u001b[1;32m    585\u001b[0m                                    poly_parameter\u001b[39m.\u001b[39;49mtype_constraint))\n\u001b[1;32m    587\u001b[0m \u001b[39mreturn\u001b[39;00m FunctionType(parameters, capture_types), type_context\n",
      "File \u001b[0;32m/Library/Frameworks/Python.framework/Versions/3.12/lib/python3.12/site-packages/tensorflow/core/function/polymorphism/function_type.py:522\u001b[0m, in \u001b[0;36m_make_validated_mono_param\u001b[0;34m(name, value, kind, type_context, poly_type)\u001b[0m\n\u001b[1;32m    518\u001b[0m \u001b[39mdef\u001b[39;00m \u001b[39m_make_validated_mono_param\u001b[39m(\n\u001b[1;32m    519\u001b[0m     name, value, kind, type_context, poly_type\n\u001b[1;32m    520\u001b[0m ) \u001b[39m-\u001b[39m\u001b[39m>\u001b[39m Parameter:\n\u001b[1;32m    521\u001b[0m \u001b[39m  \u001b[39m\u001b[39m\"\"\"Generates and validates a parameter for Monomorphic FunctionType.\"\"\"\u001b[39;00m\n\u001b[0;32m--> 522\u001b[0m   mono_type \u001b[39m=\u001b[39m trace_type\u001b[39m.\u001b[39;49mfrom_value(value, type_context)\n\u001b[1;32m    524\u001b[0m   \u001b[39mif\u001b[39;00m poly_type \u001b[39mand\u001b[39;00m \u001b[39mnot\u001b[39;00m mono_type\u001b[39m.\u001b[39mis_subtype_of(poly_type):\n\u001b[1;32m    525\u001b[0m     \u001b[39mraise\u001b[39;00m \u001b[39mTypeError\u001b[39;00m(\u001b[39mf\u001b[39m\u001b[39m\"\u001b[39m\u001b[39mParameter `\u001b[39m\u001b[39m{\u001b[39;00mname\u001b[39m}\u001b[39;00m\u001b[39m` was expected to be of type \u001b[39m\u001b[39m\"\u001b[39m\n\u001b[1;32m    526\u001b[0m                     \u001b[39mf\u001b[39m\u001b[39m\"\u001b[39m\u001b[39m{\u001b[39;00mpoly_type\u001b[39m}\u001b[39;00m\u001b[39m but is \u001b[39m\u001b[39m{\u001b[39;00mmono_type\u001b[39m}\u001b[39;00m\u001b[39m\"\u001b[39m)\n",
      "File \u001b[0;32m/Library/Frameworks/Python.framework/Versions/3.12/lib/python3.12/site-packages/tensorflow/core/function/trace_type/trace_type_builder.py:185\u001b[0m, in \u001b[0;36mfrom_value\u001b[0;34m(value, context)\u001b[0m\n\u001b[1;32m    178\u001b[0m   \u001b[39mreturn\u001b[39;00m default_types\u001b[39m.\u001b[39mAttrs\u001b[39m.\u001b[39mfrom_type_and_attributes(\n\u001b[1;32m    179\u001b[0m       \u001b[39mtype\u001b[39m(value),\n\u001b[1;32m    180\u001b[0m       \u001b[39mtuple\u001b[39m(\n\u001b[1;32m    181\u001b[0m           from_value(\u001b[39mgetattr\u001b[39m(value, a\u001b[39m.\u001b[39mname), context)\n\u001b[1;32m    182\u001b[0m           \u001b[39mfor\u001b[39;00m a \u001b[39min\u001b[39;00m value\u001b[39m.\u001b[39m__attrs_attrs__))\n\u001b[1;32m    184\u001b[0m \u001b[39mif\u001b[39;00m util\u001b[39m.\u001b[39mis_np_ndarray(value):\n\u001b[0;32m--> 185\u001b[0m   ndarray \u001b[39m=\u001b[39m value\u001b[39m.\u001b[39;49m__array__()\n\u001b[1;32m    186\u001b[0m   \u001b[39mreturn\u001b[39;00m default_types\u001b[39m.\u001b[39mTENSOR(ndarray\u001b[39m.\u001b[39mshape, ndarray\u001b[39m.\u001b[39mdtype)\n\u001b[1;32m    188\u001b[0m \u001b[39mif\u001b[39;00m \u001b[39misinstance\u001b[39m(value, custom_nest_protocol\u001b[39m.\u001b[39mCustomNestProtocol):\n",
      "File \u001b[0;32m/Library/Frameworks/Python.framework/Versions/3.12/lib/python3.12/site-packages/keras/src/backend/common/keras_tensor.py:108\u001b[0m, in \u001b[0;36mKerasTensor.__array__\u001b[0;34m(self)\u001b[0m\n\u001b[1;32m    107\u001b[0m \u001b[39mdef\u001b[39;00m \u001b[39m__array__\u001b[39m(\u001b[39mself\u001b[39m):\n\u001b[0;32m--> 108\u001b[0m     \u001b[39mraise\u001b[39;00m \u001b[39mValueError\u001b[39;00m(\n\u001b[1;32m    109\u001b[0m         \u001b[39m\"\u001b[39m\u001b[39mA KerasTensor is symbolic: it\u001b[39m\u001b[39m'\u001b[39m\u001b[39ms a placeholder for a shape \u001b[39m\u001b[39m\"\u001b[39m\n\u001b[1;32m    110\u001b[0m         \u001b[39m\"\u001b[39m\u001b[39man a dtype. It doesn\u001b[39m\u001b[39m'\u001b[39m\u001b[39mt have any actual numerical value. \u001b[39m\u001b[39m\"\u001b[39m\n\u001b[1;32m    111\u001b[0m         \u001b[39m\"\u001b[39m\u001b[39mYou cannot convert it to a NumPy array.\u001b[39m\u001b[39m\"\u001b[39m\n\u001b[1;32m    112\u001b[0m     )\n",
      "\u001b[0;31mValueError\u001b[0m: Exception encountered when calling layer 'keras_layer_10' (type KerasLayer).\n\nA KerasTensor is symbolic: it's a placeholder for a shape an a dtype. It doesn't have any actual numerical value. You cannot convert it to a NumPy array.\n\nCall arguments received by layer 'keras_layer_10' (type KerasLayer):\n  • inputs=<KerasTensor shape=(None, 224, 224, 3), dtype=float32, sparse=False, name=keras_tensor_6>\n  • training=False"
     ]
    }
   ],
   "source": [
    "from tensorflow.keras import layers, Model\n",
    "import tensorflow_hub as hub\n",
    "import tensorflow as tf\n",
    "\n",
    "# Завантаження базової моделі з TensorFlow Hub\n",
    "base_model_url = \"https://tfhub.dev/google/imagenet/mobilenet_v2_100_224/feature_vector/5\"\n",
    "base_model = hub.KerasLayer(base_model_url, trainable=False)  # Freezing the base model\n",
    "\n",
    "# Побудова моделі за допомогою функціональної API\n",
    "inputs = layers.Input(shape=(224, 224, 3))  # Вхідні дані\n",
    "x = base_model(inputs, training=False)  # Передача `training=False` для замороженої моделі\n",
    "x = layers.GlobalAveragePooling2D()(x)  # Додавання шару для згладжування\n",
    "x = layers.Dense(128, activation='relu')(x)  # Додатковий повнозв’язаний шар\n",
    "x = layers.Dropout(0.3)(x)\n",
    "outputs = layers.Dense(1, activation='sigmoid')(x)  # Вихідний шар (бінарна класифікація)\n",
    "model = Model(inputs, outputs)\n",
    "\n",
    "# Компіляція моделі\n",
    "model.compile(optimizer=tf.keras.optimizers.Adam(learning_rate=0.001),\n",
    "              loss='binary_crossentropy',\n",
    "              metrics=['accuracy'])\n",
    "\n",
    "# Виведення структури моделі\n",
    "model.summary()"
   ]
  },
  {
   "cell_type": "markdown",
   "metadata": {},
   "source": [
    "4. Fine-tuning"
   ]
  },
  {
   "cell_type": "code",
   "execution_count": 28,
   "metadata": {},
   "outputs": [
    {
     "ename": "AttributeError",
     "evalue": "'KerasLayer' object has no attribute 'layers'",
     "output_type": "error",
     "traceback": [
      "\u001b[0;31m---------------------------------------------------------------------------\u001b[0m",
      "\u001b[0;31mAttributeError\u001b[0m                            Traceback (most recent call last)",
      "\u001b[1;32m/Users/alexeipavlenko/Documents/Data_Science-1/Lab10/lab10.ipynb Cell 8\u001b[0m line \u001b[0;36m3\n\u001b[1;32m      <a href='vscode-notebook-cell:/Users/alexeipavlenko/Documents/Data_Science-1/Lab10/lab10.ipynb#X10sZmlsZQ%3D%3D?line=0'>1</a>\u001b[0m \u001b[39m#Розморозимо останні 50 шарів базової моделі\u001b[39;00m\n\u001b[1;32m      <a href='vscode-notebook-cell:/Users/alexeipavlenko/Documents/Data_Science-1/Lab10/lab10.ipynb#X10sZmlsZQ%3D%3D?line=1'>2</a>\u001b[0m base_model\u001b[39m.\u001b[39mtrainable \u001b[39m=\u001b[39m \u001b[39mTrue\u001b[39;00m\n\u001b[0;32m----> <a href='vscode-notebook-cell:/Users/alexeipavlenko/Documents/Data_Science-1/Lab10/lab10.ipynb#X10sZmlsZQ%3D%3D?line=2'>3</a>\u001b[0m \u001b[39mfor\u001b[39;00m layer \u001b[39min\u001b[39;00m base_model\u001b[39m.\u001b[39;49mlayers[:\u001b[39m-\u001b[39m\u001b[39m50\u001b[39m]:\n\u001b[1;32m      <a href='vscode-notebook-cell:/Users/alexeipavlenko/Documents/Data_Science-1/Lab10/lab10.ipynb#X10sZmlsZQ%3D%3D?line=3'>4</a>\u001b[0m     layer\u001b[39m.\u001b[39mtrainable \u001b[39m=\u001b[39m \u001b[39mFalse\u001b[39;00m\n\u001b[1;32m      <a href='vscode-notebook-cell:/Users/alexeipavlenko/Documents/Data_Science-1/Lab10/lab10.ipynb#X10sZmlsZQ%3D%3D?line=5'>6</a>\u001b[0m \u001b[39m#Повторна компіляція\u001b[39;00m\n",
      "\u001b[0;31mAttributeError\u001b[0m: 'KerasLayer' object has no attribute 'layers'"
     ]
    }
   ],
   "source": [
    "#Розморозимо останні 50 шарів базової моделі\n",
    "base_model.trainable = True\n",
    "for layer in base_model.layers[:-50]:\n",
    "    layer.trainable = False\n",
    "\n",
    "#Повторна компіляція\n",
    "model.compile(optimizer=tf.keras.optimizers.Adam(learning_rate=0.0001),\n",
    "              loss='binary_crossentropy',\n",
    "              metrics=['accuracy'])"
   ]
  },
  {
   "cell_type": "markdown",
   "metadata": {},
   "source": [
    "5. Тренування моделі"
   ]
  },
  {
   "cell_type": "code",
   "execution_count": 29,
   "metadata": {},
   "outputs": [
    {
     "ename": "NameError",
     "evalue": "name 'model' is not defined",
     "output_type": "error",
     "traceback": [
      "\u001b[0;31m---------------------------------------------------------------------------\u001b[0m",
      "\u001b[0;31mNameError\u001b[0m                                 Traceback (most recent call last)",
      "\u001b[1;32m/Users/alexeipavlenko/Documents/Data_Science-1/Lab10/lab10.ipynb Cell 10\u001b[0m line \u001b[0;36m1\n\u001b[0;32m----> <a href='vscode-notebook-cell:/Users/alexeipavlenko/Documents/Data_Science-1/Lab10/lab10.ipynb#X12sZmlsZQ%3D%3D?line=0'>1</a>\u001b[0m history \u001b[39m=\u001b[39m model\u001b[39m.\u001b[39mfit(x_train, y_train,\n\u001b[1;32m      <a href='vscode-notebook-cell:/Users/alexeipavlenko/Documents/Data_Science-1/Lab10/lab10.ipynb#X12sZmlsZQ%3D%3D?line=1'>2</a>\u001b[0m                     validation_split\u001b[39m=\u001b[39m\u001b[39m0.2\u001b[39m,\n\u001b[1;32m      <a href='vscode-notebook-cell:/Users/alexeipavlenko/Documents/Data_Science-1/Lab10/lab10.ipynb#X12sZmlsZQ%3D%3D?line=2'>3</a>\u001b[0m                     epochs\u001b[39m=\u001b[39m\u001b[39m10\u001b[39m,\n\u001b[1;32m      <a href='vscode-notebook-cell:/Users/alexeipavlenko/Documents/Data_Science-1/Lab10/lab10.ipynb#X12sZmlsZQ%3D%3D?line=3'>4</a>\u001b[0m                     batch_size\u001b[39m=\u001b[39m\u001b[39m32\u001b[39m,\n\u001b[1;32m      <a href='vscode-notebook-cell:/Users/alexeipavlenko/Documents/Data_Science-1/Lab10/lab10.ipynb#X12sZmlsZQ%3D%3D?line=4'>5</a>\u001b[0m                     verbose\u001b[39m=\u001b[39m\u001b[39m1\u001b[39m)\n",
      "\u001b[0;31mNameError\u001b[0m: name 'model' is not defined"
     ]
    }
   ],
   "source": [
    "history = model.fit(x_train, y_train,\n",
    "                    validation_split=0.2,\n",
    "                    epochs=10,\n",
    "                    batch_size=32,\n",
    "                    verbose=1)"
   ]
  },
  {
   "cell_type": "markdown",
   "metadata": {},
   "source": [
    "6. Оцінка моделі"
   ]
  },
  {
   "cell_type": "code",
   "execution_count": 30,
   "metadata": {},
   "outputs": [
    {
     "ename": "NameError",
     "evalue": "name 'model' is not defined",
     "output_type": "error",
     "traceback": [
      "\u001b[0;31m---------------------------------------------------------------------------\u001b[0m",
      "\u001b[0;31mNameError\u001b[0m                                 Traceback (most recent call last)",
      "\u001b[1;32m/Users/alexeipavlenko/Documents/Data_Science-1/Lab10/lab10.ipynb Cell 12\u001b[0m line \u001b[0;36m2\n\u001b[1;32m      <a href='vscode-notebook-cell:/Users/alexeipavlenko/Documents/Data_Science-1/Lab10/lab10.ipynb#X14sZmlsZQ%3D%3D?line=0'>1</a>\u001b[0m \u001b[39m#Оцінка моделі\u001b[39;00m\n\u001b[0;32m----> <a href='vscode-notebook-cell:/Users/alexeipavlenko/Documents/Data_Science-1/Lab10/lab10.ipynb#X14sZmlsZQ%3D%3D?line=1'>2</a>\u001b[0m test_loss, test_accuracy \u001b[39m=\u001b[39m model\u001b[39m.\u001b[39mevaluate(x_test, y_test)\n\u001b[1;32m      <a href='vscode-notebook-cell:/Users/alexeipavlenko/Documents/Data_Science-1/Lab10/lab10.ipynb#X14sZmlsZQ%3D%3D?line=2'>3</a>\u001b[0m \u001b[39mprint\u001b[39m(\u001b[39mf\u001b[39m\u001b[39m\"\u001b[39m\u001b[39mТочність на тестових даних: \u001b[39m\u001b[39m{\u001b[39;00mtest_accuracy\u001b[39m:\u001b[39;00m\u001b[39m.2f\u001b[39m\u001b[39m}\u001b[39;00m\u001b[39m\"\u001b[39m)\n\u001b[1;32m      <a href='vscode-notebook-cell:/Users/alexeipavlenko/Documents/Data_Science-1/Lab10/lab10.ipynb#X14sZmlsZQ%3D%3D?line=4'>5</a>\u001b[0m \u001b[39m#Матриця похибок\u001b[39;00m\n",
      "\u001b[0;31mNameError\u001b[0m: name 'model' is not defined"
     ]
    }
   ],
   "source": [
    "#Оцінка моделі\n",
    "test_loss, test_accuracy = model.evaluate(x_test, y_test)\n",
    "print(f\"Точність на тестових даних: {test_accuracy:.2f}\")\n",
    "\n",
    "#Матриця похибок\n",
    "y_pred = (model.predict(x_test) > 0.5).astype(\"int32\").reshape(-1)\n",
    "cm = confusion_matrix(y_test, y_pred)\n",
    "\n",
    "#Візуалізація матриці похибок\n",
    "plt.figure(figsize=(6, 6))\n",
    "sns.heatmap(cm, annot=True, fmt='d', cmap='Blues', xticklabels=['Cats', 'Dogs'], yticklabels=['Cats', 'Dogs'])\n",
    "plt.title(\"Матриця похибок\")\n",
    "plt.xlabel(\"Прогнозовані класи\")\n",
    "plt.ylabel(\"Реальні класи\")\n",
    "plt.show()\n",
    "\n",
    "#Класифікаційний звіт\n",
    "print(\"Класифікаційний звіт:\")\n",
    "print(classification_report(y_test, y_pred, target_names=['Cats', 'Dogs']))"
   ]
  },
  {
   "cell_type": "markdown",
   "metadata": {},
   "source": [
    "7. Візуалізація передбачень"
   ]
  },
  {
   "cell_type": "code",
   "execution_count": null,
   "metadata": {},
   "outputs": [],
   "source": [
    "# Візуалізація передбачень\n",
    "def display_predictions(images, labels, predictions):\n",
    "    plt.figure(figsize=(10, 10))\n",
    "    for i in range(9):\n",
    "        plt.subplot(3, 3, i + 1)\n",
    "        plt.imshow(images[i])\n",
    "        title = f\"Real: {'Dog' if labels[i] else 'Cat'}\\nPredicted: {'Dog' if predictions[i] else 'Cat'}\"\n",
    "        plt.title(title)\n",
    "        plt.axis('off')\n",
    "    plt.show()\n",
    "\n",
    "# Виведення передбачень\n",
    "display_predictions(x_test.numpy(), y_test, y_pred)"
   ]
  }
 ],
 "metadata": {
  "language_info": {
   "name": "python"
  }
 },
 "nbformat": 4,
 "nbformat_minor": 2
}
