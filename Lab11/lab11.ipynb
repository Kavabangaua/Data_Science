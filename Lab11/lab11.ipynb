{
    "cells": [
        {
            "cell_type": "markdown",
            "metadata": {},
            "source": [
                "# Дослідження методів та інструментів NLP"
            ]
        },
        {
            "cell_type": "markdown",
            "id": "60b4c176",
            "metadata": {},
            "source": [
                "# Мета\n",
                "Познайомитися з основними поняттями, методами та підходами у сфері обробки природної мови (NLP). Провести порівняльний аналіз популярних алгоритмів та інструментів, а також підготувати презентацію на цю тему.\n"
            ]
        },
        {
            "cell_type": "markdown",
            "metadata": {},
            "source": [
                "## Основні етапи NLP\n",
                "1. **Токенізація**\n",
                "2. **Лемматизація та стемінг**\n",
                "3. **Векторизація тексту**\n",
                "4. **Класифікація тексту**\n",
                "5. **Розпізнавання сутностей (NER)**"
            ]
        },
        {
            "cell_type": "markdown",
            "metadata": {},
            "source": [
                "## Порівняльний аналіз методів векторизації тексту"
            ]
        },
        {
            "cell_type": "code",
            "execution_count": 1,
            "metadata": {},
            "outputs": [
                {
                    "data": {
                        "text/html": [
                            "<div>\n",
                            "<style scoped>\n",
                            "    .dataframe tbody tr th:only-of-type {\n",
                            "        vertical-align: middle;\n",
                            "    }\n",
                            "\n",
                            "    .dataframe tbody tr th {\n",
                            "        vertical-align: top;\n",
                            "    }\n",
                            "\n",
                            "    .dataframe thead th {\n",
                            "        text-align: right;\n",
                            "    }\n",
                            "</style>\n",
                            "<table border=\"1\" class=\"dataframe\">\n",
                            "  <thead>\n",
                            "    <tr style=\"text-align: right;\">\n",
                            "      <th></th>\n",
                            "      <th>Метод</th>\n",
                            "      <th>Переваги</th>\n",
                            "      <th>Недоліки</th>\n",
                            "      <th>Складність реалізації</th>\n",
                            "      <th>Застосування</th>\n",
                            "    </tr>\n",
                            "  </thead>\n",
                            "  <tbody>\n",
                            "    <tr>\n",
                            "      <th>0</th>\n",
                            "      <td>Bag of Words (BOW)</td>\n",
                            "      <td>Легко реалізувати, базова модель.</td>\n",
                            "      <td>Втрата семантики, велика розмірність словника.</td>\n",
                            "      <td>Низька</td>\n",
                            "      <td>Текстова класифікація, базовий аналіз тексту</td>\n",
                            "    </tr>\n",
                            "    <tr>\n",
                            "      <th>1</th>\n",
                            "      <td>TF-IDF</td>\n",
                            "      <td>Враховує важливість слів, зменшує вагу часто в...</td>\n",
                            "      <td>Не враховує семантику слів.</td>\n",
                            "      <td>Низька</td>\n",
                            "      <td>Аналіз тональності, пошукові системи</td>\n",
                            "    </tr>\n",
                            "    <tr>\n",
                            "      <th>2</th>\n",
                            "      <td>Word Embeddings (Word2Vec, GloVe)</td>\n",
                            "      <td>Зберігають семантичні зв’язки між словами, низ...</td>\n",
                            "      <td>Потрібно більше обчислювальних ресурсів для на...</td>\n",
                            "      <td>Висока</td>\n",
                            "      <td>Чат-боти, NER, переклади</td>\n",
                            "    </tr>\n",
                            "  </tbody>\n",
                            "</table>\n",
                            "</div>"
                        ],
                        "text/plain": [
                            "                               Метод  \\\n",
                            "0                 Bag of Words (BOW)   \n",
                            "1                             TF-IDF   \n",
                            "2  Word Embeddings (Word2Vec, GloVe)   \n",
                            "\n",
                            "                                            Переваги  \\\n",
                            "0                  Легко реалізувати, базова модель.   \n",
                            "1  Враховує важливість слів, зменшує вагу часто в...   \n",
                            "2  Зберігають семантичні зв’язки між словами, низ...   \n",
                            "\n",
                            "                                            Недоліки Складність реалізації  \\\n",
                            "0     Втрата семантики, велика розмірність словника.                Низька   \n",
                            "1                        Не враховує семантику слів.                Низька   \n",
                            "2  Потрібно більше обчислювальних ресурсів для на...                Висока   \n",
                            "\n",
                            "                                   Застосування  \n",
                            "0  Текстова класифікація, базовий аналіз тексту  \n",
                            "1          Аналіз тональності, пошукові системи  \n",
                            "2                      Чат-боти, NER, переклади  "
                        ]
                    },
                    "execution_count": 1,
                    "metadata": {},
                    "output_type": "execute_result"
                }
            ],
            "source": [
                "import pandas as pd\n",
                "\n",
                "data = {\n",
                "    'Метод': ['Bag of Words (BOW)', 'TF-IDF', 'Word Embeddings (Word2Vec, GloVe)'],\n",
                "    'Переваги': [\n",
                "        'Легко реалізувати, базова модель.',\n",
                "        'Враховує важливість слів, зменшує вагу часто вживаних слів.',\n",
                "        'Зберігають семантичні зв’язки між словами, низька розмірність векторів.'\n",
                "    ],\n",
                "    'Недоліки': [\n",
                "        'Втрата семантики, велика розмірність словника.',\n",
                "        'Не враховує семантику слів.',\n",
                "        'Потрібно більше обчислювальних ресурсів для навчання.'\n",
                "    ],\n",
                "    'Складність реалізації': ['Низька', 'Низька', 'Висока'],\n",
                "    'Застосування': [\n",
                "        'Текстова класифікація, базовий аналіз тексту',\n",
                "        'Аналіз тональності, пошукові системи',\n",
                "        'Чат-боти, NER, переклади'\n",
                "    ]\n",
                "}\n",
                "\n",
                "df = pd.DataFrame(data)\n",
                "df"
            ]
        },
        {
            "cell_type": "markdown",
            "metadata": {},
            "source": [
                "## Огляд інструментів для NLP"
            ]
        },
        {
            "cell_type": "code",
            "execution_count": 2,
            "metadata": {},
            "outputs": [
                {
                    "data": {
                        "text/html": [
                            "<div>\n",
                            "<style scoped>\n",
                            "    .dataframe tbody tr th:only-of-type {\n",
                            "        vertical-align: middle;\n",
                            "    }\n",
                            "\n",
                            "    .dataframe tbody tr th {\n",
                            "        vertical-align: top;\n",
                            "    }\n",
                            "\n",
                            "    .dataframe thead th {\n",
                            "        text-align: right;\n",
                            "    }\n",
                            "</style>\n",
                            "<table border=\"1\" class=\"dataframe\">\n",
                            "  <thead>\n",
                            "    <tr style=\"text-align: right;\">\n",
                            "      <th></th>\n",
                            "      <th>Інструмент</th>\n",
                            "      <th>Основні функції</th>\n",
                            "      <th>Підтримка мов</th>\n",
                            "      <th>Простота використання</th>\n",
                            "    </tr>\n",
                            "  </thead>\n",
                            "  <tbody>\n",
                            "    <tr>\n",
                            "      <th>0</th>\n",
                            "      <td>NLTK</td>\n",
                            "      <td>Токенізація, лемматизація, NER, аналіз граматики.</td>\n",
                            "      <td>Багатомовність</td>\n",
                            "      <td>Висока</td>\n",
                            "    </tr>\n",
                            "    <tr>\n",
                            "      <th>1</th>\n",
                            "      <td>SpaCy</td>\n",
                            "      <td>Токенізація, лемматизація, Word2Vec, NER.</td>\n",
                            "      <td>Англійська, інші мови</td>\n",
                            "      <td>Висока</td>\n",
                            "    </tr>\n",
                            "    <tr>\n",
                            "      <th>2</th>\n",
                            "      <td>Hugging Face Transformers</td>\n",
                            "      <td>Робота з трансформерами (BERT, GPT).</td>\n",
                            "      <td>Багатомовність</td>\n",
                            "      <td>Середня</td>\n",
                            "    </tr>\n",
                            "    <tr>\n",
                            "      <th>3</th>\n",
                            "      <td>Gensim</td>\n",
                            "      <td>Word Embeddings, тематичне моделювання.</td>\n",
                            "      <td>Багатомовність</td>\n",
                            "      <td>Середня</td>\n",
                            "    </tr>\n",
                            "  </tbody>\n",
                            "</table>\n",
                            "</div>"
                        ],
                        "text/plain": [
                            "                  Інструмент  \\\n",
                            "0                       NLTK   \n",
                            "1                      SpaCy   \n",
                            "2  Hugging Face Transformers   \n",
                            "3                     Gensim   \n",
                            "\n",
                            "                                     Основні функції          Підтримка мов  \\\n",
                            "0  Токенізація, лемматизація, NER, аналіз граматики.         Багатомовність   \n",
                            "1          Токенізація, лемматизація, Word2Vec, NER.  Англійська, інші мови   \n",
                            "2               Робота з трансформерами (BERT, GPT).         Багатомовність   \n",
                            "3            Word Embeddings, тематичне моделювання.         Багатомовність   \n",
                            "\n",
                            "  Простота використання  \n",
                            "0                Висока  \n",
                            "1                Висока  \n",
                            "2               Середня  \n",
                            "3               Середня  "
                        ]
                    },
                    "execution_count": 2,
                    "metadata": {},
                    "output_type": "execute_result"
                }
            ],
            "source": [
                "tools_data = {\n",
                "    'Інструмент': ['NLTK', 'SpaCy', 'Hugging Face Transformers', 'Gensim'],\n",
                "    'Основні функції': [\n",
                "        'Токенізація, лемматизація, NER, аналіз граматики.',\n",
                "        'Токенізація, лемматизація, Word2Vec, NER.',\n",
                "        'Робота з трансформерами (BERT, GPT).',\n",
                "        'Word Embeddings, тематичне моделювання.'\n",
                "    ],\n",
                "    'Підтримка мов': ['Багатомовність', 'Англійська, інші мови', 'Багатомовність', 'Багатомовність'],\n",
                "    'Простота використання': ['Висока', 'Висока', 'Середня', 'Середня']\n",
                "}\n",
                "\n",
                "tools_df = pd.DataFrame(tools_data)\n",
                "tools_df"
            ]
        },
        {
            "cell_type": "markdown",
            "metadata": {},
            "source": [
                "## Приклади застосувань NLP"
            ]
        },
        {
            "cell_type": "code",
            "execution_count": 3,
            "metadata": {},
            "outputs": [
                {
                    "data": {
                        "text/html": [
                            "<div>\n",
                            "<style scoped>\n",
                            "    .dataframe tbody tr th:only-of-type {\n",
                            "        vertical-align: middle;\n",
                            "    }\n",
                            "\n",
                            "    .dataframe tbody tr th {\n",
                            "        vertical-align: top;\n",
                            "    }\n",
                            "\n",
                            "    .dataframe thead th {\n",
                            "        text-align: right;\n",
                            "    }\n",
                            "</style>\n",
                            "<table border=\"1\" class=\"dataframe\">\n",
                            "  <thead>\n",
                            "    <tr style=\"text-align: right;\">\n",
                            "      <th></th>\n",
                            "      <th>Задача</th>\n",
                            "      <th>Опис</th>\n",
                            "      <th>Інструменти</th>\n",
                            "    </tr>\n",
                            "  </thead>\n",
                            "  <tbody>\n",
                            "    <tr>\n",
                            "      <th>0</th>\n",
                            "      <td>Аналіз тональності</td>\n",
                            "      <td>Визначення позитивної/негативної тональності т...</td>\n",
                            "      <td>NLTK, Hugging Face Transformers</td>\n",
                            "    </tr>\n",
                            "    <tr>\n",
                            "      <th>1</th>\n",
                            "      <td>Чат-боти</td>\n",
                            "      <td>Автоматизація відповіді на питання.</td>\n",
                            "      <td>SpaCy, Hugging Face, Word2Vec</td>\n",
                            "    </tr>\n",
                            "    <tr>\n",
                            "      <th>2</th>\n",
                            "      <td>Переклади</td>\n",
                            "      <td>Автоматичний переклад текстів.</td>\n",
                            "      <td>Hugging Face Transformers (MarianMT, T5)</td>\n",
                            "    </tr>\n",
                            "    <tr>\n",
                            "      <th>3</th>\n",
                            "      <td>Рекомендаційні системи</td>\n",
                            "      <td>Аналіз текстів відгуків для рекомендацій.</td>\n",
                            "      <td>Gensim, Word2Vec</td>\n",
                            "    </tr>\n",
                            "  </tbody>\n",
                            "</table>\n",
                            "</div>"
                        ],
                        "text/plain": [
                            "                   Задача                                               Опис  \\\n",
                            "0      Аналіз тональності  Визначення позитивної/негативної тональності т...   \n",
                            "1                Чат-боти                Автоматизація відповіді на питання.   \n",
                            "2               Переклади                     Автоматичний переклад текстів.   \n",
                            "3  Рекомендаційні системи          Аналіз текстів відгуків для рекомендацій.   \n",
                            "\n",
                            "                                Інструменти  \n",
                            "0           NLTK, Hugging Face Transformers  \n",
                            "1             SpaCy, Hugging Face, Word2Vec  \n",
                            "2  Hugging Face Transformers (MarianMT, T5)  \n",
                            "3                          Gensim, Word2Vec  "
                        ]
                    },
                    "execution_count": 3,
                    "metadata": {},
                    "output_type": "execute_result"
                }
            ],
            "source": [
                "applications_data = {\n",
                "    'Задача': ['Аналіз тональності', 'Чат-боти', 'Переклади', 'Рекомендаційні системи'],\n",
                "    'Опис': [\n",
                "        'Визначення позитивної/негативної тональності тексту.',\n",
                "        'Автоматизація відповіді на питання.',\n",
                "        'Автоматичний переклад текстів.',\n",
                "        'Аналіз текстів відгуків для рекомендацій.'\n",
                "    ],\n",
                "    'Інструменти': ['NLTK, Hugging Face Transformers', 'SpaCy, Hugging Face, Word2Vec', 'Hugging Face Transformers (MarianMT, T5)', 'Gensim, Word2Vec']\n",
                "}\n",
                "\n",
                "applications_df = pd.DataFrame(applications_data)\n",
                "applications_df"
            ]
        },
        {
            "cell_type": "markdown",
            "metadata": {},
            "source": [
                "## Висновки\n",
                "1. **Методи векторизації тексту:**\n",
                "   - **BOW та TF-IDF** підходять для простих задач із невеликою кількістю текстових даних.\n",
                "   - **Word Embeddings** (Word2Vec, GloVe) ефективніші для складних задач, де враховується семантика.\n",
                "2. **Інструменти NLP:**\n",
                "   - **NLTK та SpaCy** найкращі для базової обробки тексту.\n",
                "   - **Hugging Face Transformers** чудово підходить для роботи з сучасними трансформерами.\n",
                "   - **Gensim** корисний для тематичного моделювання та роботи з Word Embeddings.\n",
                "3. **Застосування NLP:**\n",
                "   - У бізнесі: чат-боти, аналіз тональності.\n",
                "   - У науці: автоматичний аналіз текстів, машинний переклад."
            ]
        }
    ],
    "metadata": {
        "kernelspec": {
            "display_name": "Python 3",
            "language": "python",
            "name": "python3"
        }
    },
    "nbformat": 4,
    "nbformat_minor": 5
}
